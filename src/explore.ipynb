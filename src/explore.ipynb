{
 "cells": [
  {
   "cell_type": "code",
   "execution_count": 1,
   "metadata": {},
   "outputs": [],
   "source": [
    "# API LINK RETRIEVED\n",
    "# https://dev.meteostat.net/api/"
   ]
  },
  {
   "cell_type": "code",
   "execution_count": 3,
   "metadata": {},
   "outputs": [],
   "source": [
    "# required imports\n",
    "\n",
    "import requests"
   ]
  },
  {
   "cell_type": "code",
   "execution_count": 9,
   "metadata": {},
   "outputs": [],
   "source": [
    "url = \"https://meteostat.p.rapidapi.com/stations/daily\"\n",
    "\n",
    "querystring = {\"station\":\"10637\",\"start\":\"2020-01-01\",\"end\":\"2020-01-31\"}\n",
    "\n",
    "headers = {\n",
    "\t\"X-RapidAPI-Key\": \"98fed68136msh49d44b591f2ab42p1a038ajsn11815f5da95b\",\n",
    "\t\"X-RapidAPI-Host\": \"meteostat.p.rapidapi.com\"\n",
    "}\n",
    "\n",
    "response = requests.request(\"GET\", url, headers=headers, params=querystring) #, rapidapi-key == \"98fed68136msh49d44b591f2ab42p1a038\")\n"
   ]
  },
  {
   "cell_type": "code",
   "execution_count": 10,
   "metadata": {},
   "outputs": [
    {
     "name": "stdout",
     "output_type": "stream",
     "text": [
      "{\"meta\":{\"generated\": \"2022-09-15 20:42:44\"},\"data\":[{\"date\":\"2020-01-01\",\"tavg\":0.4,\"tmin\":-3.6,\"tmax\":4.5,\"prcp\":0.1,\"snow\":0.0,\"wdir\":47.0,\"wspd\":10.1,\"wpgt\":22.3,\"pres\":1035.5,\"tsun\":435},{\"date\":\"2020-01-02\",\"tavg\":-0.5,\"tmin\":-2.4,\"tmax\":1.4,\"prcp\":0.0,\"snow\":0.0,\"wdir\":198.0,\"wspd\":6.1,\"wpgt\":25.9,\"pres\":1031.2,\"tsun\":0},{\"date\":\"2020-01-03\",\"tavg\":5.8,\"tmin\":1.3,\"tmax\":9.3,\"prcp\":0.5,\"snow\":0.0,\"wdir\":209.0,\"wspd\":15.5,\"wpgt\":46.8,\"pres\":1024.4,\"tsun\":0},{\"date\":\"2020-01-04\",\"tavg\":5.4,\"tmin\":2.4,\"tmax\":6.8,\"prcp\":0.2,\"snow\":0.0,\"wdir\":242.0,\"wspd\":15.8,\"wpgt\":47.5,\"pres\":1031.5,\"tsun\":0},{\"date\":\"2020-01-05\",\"tavg\":4.8,\"tmin\":2.7,\"tmax\":6.3,\"prcp\":1.1,\"snow\":0.0,\"wdir\":189.0,\"wspd\":6.8,\"wpgt\":23.4,\"pres\":1036.6,\"tsun\":0},{\"date\":\"2020-01-06\",\"tavg\":1.1,\"tmin\":-0.9,\"tmax\":4.6,\"prcp\":0.0,\"snow\":0.0,\"wdir\":198.0,\"wspd\":6.5,\"wpgt\":19.8,\"pres\":1030.6,\"tsun\":0},{\"date\":\"2020-01-07\",\"tavg\":3.4,\"tmin\":-0.1,\"tmax\":8.0,\"prcp\":0.0,\"snow\":0.0,\"wdir\":198.0,\"wspd\":9.7,\"wpgt\":22.3,\"pres\":1029.9,\"tsun\":170},{\"date\":\"2020-01-08\",\"tavg\":4.9,\"tmin\":2.8,\"tmax\":7.5,\"prcp\":10.6,\"snow\":0.0,\"wdir\":197.0,\"wspd\":11.9,\"wpgt\":27.7,\"pres\":1029.0,\"tsun\":0},{\"date\":\"2020-01-09\",\"tavg\":9.2,\"tmin\":7.4,\"tmax\":11.2,\"prcp\":8.6,\"snow\":0.0,\"wdir\":191.0,\"wspd\":11.5,\"wpgt\":29.5,\"pres\":1019.9,\"tsun\":0},{\"date\":\"2020-01-10\",\"tavg\":8.3,\"tmin\":4.0,\"tmax\":11.6,\"prcp\":2.1,\"snow\":0.0,\"wdir\":222.0,\"wspd\":15.8,\"wpgt\":44.3,\"pres\":1021.6,\"tsun\":170},{\"date\":\"2020-01-11\",\"tavg\":2.1,\"tmin\":-1.8,\"tmax\":6.8,\"prcp\":0.0,\"snow\":0.0,\"wdir\":209.0,\"wspd\":6.1,\"wpgt\":20.5,\"pres\":1034.3,\"tsun\":212},{\"date\":\"2020-01-12\",\"tavg\":2.4,\"tmin\":-2.6,\"tmax\":5.5,\"prcp\":0.1,\"snow\":0.0,\"wdir\":202.0,\"wspd\":14.0,\"wpgt\":37.8,\"pres\":1028.3,\"tsun\":0},{\"date\":\"2020-01-13\",\"tavg\":5.4,\"tmin\":3.8,\"tmax\":6.7,\"prcp\":0.0,\"snow\":0.0,\"wdir\":191.0,\"wspd\":11.2,\"wpgt\":25.2,\"pres\":1022.7,\"tsun\":0},{\"date\":\"2020-01-14\",\"tavg\":8.0,\"tmin\":4.0,\"tmax\":10.4,\"prcp\":0.0,\"snow\":0.0,\"wdir\":198.0,\"wspd\":15.8,\"wpgt\":37.1,\"pres\":1015.3,\"tsun\":3},{\"date\":\"2020-01-15\",\"tavg\":10.2,\"tmin\":6.3,\"tmax\":13.4,\"prcp\":0.1,\"snow\":0.0,\"wdir\":191.0,\"wspd\":13.3,\"wpgt\":31.3,\"pres\":1019.1,\"tsun\":415},{\"date\":\"2020-01-16\",\"tavg\":8.3,\"tmin\":2.2,\"tmax\":13.7,\"prcp\":0.0,\"snow\":0.0,\"wdir\":173.0,\"wspd\":6.1,\"wpgt\":20.5,\"pres\":1027.5,\"tsun\":444},{\"date\":\"2020-01-17\",\"tavg\":4.0,\"tmin\":-1.2,\"tmax\":7.6,\"prcp\":0.0,\"snow\":0.0,\"wdir\":196.0,\"wspd\":6.5,\"wpgt\":38.9,\"pres\":1021.5,\"tsun\":145},{\"date\":\"2020-01-18\",\"tavg\":4.1,\"tmin\":1.1,\"tmax\":6.7,\"prcp\":0.3,\"snow\":0.0,\"wdir\":214.0,\"wspd\":12.6,\"wpgt\":38.9,\"pres\":1027.6,\"tsun\":148},{\"date\":\"2020-01-19\",\"tavg\":3.6,\"tmin\":-0.2,\"tmax\":6.8,\"prcp\":0.0,\"snow\":0.0,\"wdir\":323.0,\"wspd\":9.7,\"wpgt\":34.6,\"pres\":1038.1,\"tsun\":38},{\"date\":\"2020-01-20\",\"tavg\":2.2,\"tmin\":-1.9,\"tmax\":7.2,\"prcp\":0.0,\"snow\":0.0,\"wdir\":81.0,\"wspd\":9.7,\"wpgt\":32.8,\"pres\":1047.5,\"tsun\":363},{\"date\":\"2020-01-21\",\"tavg\":0.1,\"tmin\":-4.1,\"tmax\":5.4,\"prcp\":0.0,\"snow\":0.0,\"wdir\":81.0,\"wspd\":6.8,\"wpgt\":16.6,\"pres\":1043.5,\"tsun\":496},{\"date\":\"2020-01-22\",\"tavg\":-2.9,\"tmin\":-5.6,\"tmax\":-0.4,\"prcp\":0.0,\"snow\":0.0,\"wdir\":116.0,\"wspd\":5.4,\"wpgt\":18.0,\"pres\":1038.5,\"tsun\":0},{\"date\":\"2020-01-23\",\"tavg\":1.4,\"tmin\":-0.5,\"tmax\":4.3,\"prcp\":0.0,\"snow\":0.0,\"wdir\":70.0,\"wspd\":9.7,\"wpgt\":27.0,\"pres\":1033.6,\"tsun\":115},{\"date\":\"2020-01-24\",\"tavg\":0.5,\"tmin\":0.1,\"tmax\":1.1,\"prcp\":0.0,\"snow\":0.0,\"wdir\":188.0,\"wspd\":6.5,\"wpgt\":20.5,\"pres\":1026.7,\"tsun\":0},{\"date\":\"2020-01-25\",\"tavg\":0.7,\"tmin\":0.0,\"tmax\":1.6,\"prcp\":0.0,\"snow\":0.0,\"wdir\":196.0,\"wspd\":4.0,\"wpgt\":13.7,\"pres\":1024.5,\"tsun\":0},{\"date\":\"2020-01-26\",\"tavg\":1.4,\"tmin\":0.2,\"tmax\":2.2,\"prcp\":0.0,\"snow\":0.0,\"wdir\":157.0,\"wspd\":5.4,\"wpgt\":18.4,\"pres\":1021.2,\"tsun\":0},{\"date\":\"2020-01-27\",\"tavg\":5.0,\"tmin\":2.0,\"tmax\":7.7,\"prcp\":9.9,\"snow\":0.0,\"wdir\":198.0,\"wspd\":13.3,\"wpgt\":35.3,\"pres\":1012.4,\"tsun\":0},{\"date\":\"2020-01-28\",\"tavg\":5.3,\"tmin\":2.0,\"tmax\":7.6,\"prcp\":2.9,\"snow\":0.0,\"wdir\":207.0,\"wspd\":24.5,\"wpgt\":77.0,\"pres\":1000.9,\"tsun\":17},{\"date\":\"2020-01-29\",\"tavg\":4.1,\"tmin\":1.3,\"tmax\":7.8,\"prcp\":0.1,\"snow\":0.0,\"wdir\":212.0,\"wspd\":18.7,\"wpgt\":46.8,\"pres\":1011.0,\"tsun\":26},{\"date\":\"2020-01-30\",\"tavg\":6.8,\"tmin\":3.4,\"tmax\":9.2,\"prcp\":0.3,\"snow\":0.0,\"wdir\":198.0,\"wspd\":17.6,\"wpgt\":37.1,\"pres\":1013.7,\"tsun\":86},{\"date\":\"2020-01-31\",\"tavg\":12.6,\"tmin\":9.0,\"tmax\":15.1,\"prcp\":0.0,\"snow\":0.0,\"wdir\":208.0,\"wspd\":22.0,\"wpgt\":43.2,\"pres\":1012.0,\"tsun\":26}]}\n"
     ]
    }
   ],
   "source": [
    "print(response.text)"
   ]
  }
 ],
 "metadata": {
  "interpreter": {
   "hash": "0e785858bd7db77ca8b38500638c5c0b481e86d6b137376cae88c1c5c03be366"
  },
  "kernelspec": {
   "display_name": "Python 3.10.4 ('mlclimate')",
   "language": "python",
   "name": "python3"
  },
  "language_info": {
   "codemirror_mode": {
    "name": "ipython",
    "version": 3
   },
   "file_extension": ".py",
   "mimetype": "text/x-python",
   "name": "python",
   "nbconvert_exporter": "python",
   "pygments_lexer": "ipython3",
   "version": "3.10.4"
  },
  "orig_nbformat": 4
 },
 "nbformat": 4,
 "nbformat_minor": 2
}
